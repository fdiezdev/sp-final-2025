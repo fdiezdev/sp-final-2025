{
 "cells": [
  {
   "cell_type": "markdown",
   "metadata": {},
   "source": [
    "Dada la señal  $f(t)= 7+3 cos(22\\pi t)+sen(16 \\pi t)$  con  $t \\in R$  medido en segundos.\n",
    "\n",
    "Analice los componentes de frecuencias la señal  $f$.\n",
    " \n",
    "Digitalice la señal  $f$  con un período de muestreo de 0.001 s, en el intervalo  $t \\in [0,0.8)$. \n",
    "Calcule la frecuencia de muestreo y la cantidad de muestras.\n",
    "\n",
    "Grafique la señal muestreada en función del tiempo.\n",
    "\n",
    "Analice la señal  f   según sus componentes de frecuencia, para esto utilice la transformada de Fourier de la señal muestreada punto N=700. Grafique su magnitud en función de la frecuencia en Hertz, ubique la frecuencia de Nyquist del muestreo en la gráfica . Cotejar con lo analizado en el item 1.\n",
    "\n",
    "¿Se puede reconstruir la señal muestreada en el item 2 utilizando el resultado del item anterior? ¿Se ha realizado un Zero padding o un truncamiento?"
   ]
  }
 ],
 "metadata": {
  "language_info": {
   "name": "python"
  }
 },
 "nbformat": 4,
 "nbformat_minor": 2
}
